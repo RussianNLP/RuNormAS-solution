{
 "cells": [
  {
   "cell_type": "code",
   "execution_count": 1,
   "metadata": {},
   "outputs": [],
   "source": [
    "%load_ext autoreload\n",
    "\n",
    "%autoreload 2"
   ]
  },
  {
   "cell_type": "code",
   "execution_count": 2,
   "metadata": {
    "id": "EnTy1SEajpPV"
   },
   "outputs": [],
   "source": [
    "import warnings\n",
    "warnings.filterwarnings(\"ignore\")"
   ]
  },
  {
   "cell_type": "markdown",
   "metadata": {},
   "source": [
    "### Load data"
   ]
  },
  {
   "cell_type": "code",
   "execution_count": 3,
   "metadata": {},
   "outputs": [],
   "source": [
    "import sys\n",
    "sys.path.append(\"runormas/\")"
   ]
  },
  {
   "cell_type": "code",
   "execution_count": 4,
   "metadata": {},
   "outputs": [],
   "source": [
    "from modules.utils import get_all_files_from_dir"
   ]
  },
  {
   "cell_type": "code",
   "execution_count": 5,
   "metadata": {},
   "outputs": [],
   "source": [
    "from score import score, regularize\n",
    "import re"
   ]
  },
  {
   "cell_type": "code",
   "execution_count": 131,
   "metadata": {},
   "outputs": [],
   "source": [
    "from collections import defaultdict\n",
    "import os\n",
    "\n",
    "\n",
    "y_true = defaultdict(dict)\n",
    "y_pred = defaultdict(dict)\n",
    "errors = []\n",
    "total_named = 0\n",
    "total_generic = 0\n",
    "error_named = 0\n",
    "error_generic = 0\n",
    "files = get_all_files_from_dir(\"reference/\")\n",
    "for fn in files:\n",
    "    n_key = os.path.basename(fn)\n",
    "    if \"named\" in fn:\n",
    "        part = \"named\"\n",
    "    else:\n",
    "        part =  \"generic\"\n",
    "    key = n_key[:-5]\n",
    "    y_true[part][key] = []\n",
    "    y_pred[part][key] = []\n",
    "    with open(fn) as file:\n",
    "        gt = regularize(file.read().strip())\n",
    "        \n",
    "        if \"named\" in fn:\n",
    "            y_true[part][key] = gt.split(\"\\n\")\n",
    "            total_named += len(y_true[part][key])\n",
    "        else:\n",
    "            gt = re.sub(\" \", \"\", gt)\n",
    "            y_true[part][key] = gt.lower().split(\"\\n\")\n",
    "            total_generic += len(y_true[part][key])\n",
    "\n",
    "    fn = os.path.join(\"test_pred/v14_130k_finetune_fixed\", part, n_key)\n",
    "    if os.path.exists(fn):\n",
    "        with open(fn) as file:\n",
    "            gt = regularize(file.read().strip())\n",
    "            if \"named\" in fn:\n",
    "                y_pred[part][key] = gt.split(\"\\n\")\n",
    "            else:\n",
    "                gt = re.sub(\" \", \"\", gt)\n",
    "                y_pred[part][key] = gt.lower().split(\"\\n\")\n",
    "            for idx, yt in enumerate(y_true[part][key]):\n",
    "                yp = y_pred[part][key][idx]\n",
    "                if yp != yt:\n",
    "                    if \"named\" in fn:\n",
    "                        error_named += 1\n",
    "                    else:\n",
    "                        error_generic += 1\n",
    "                    errors.append({\n",
    "                        \"part\": part,\n",
    "                        \"key\": key,\n",
    "                        \"type\": \"not_matched\",\n",
    "                        \"y_true\": yt,\n",
    "                        \"y_pred\": yp,\n",
    "                        \"idx\": idx\n",
    "                    })\n",
    "    else:\n",
    "        for idx, yt in enumerate(y_true[part][key]):\n",
    "            if \"named\" in fn:\n",
    "                error_named += 1\n",
    "            else:\n",
    "                error_generic += 1\n",
    "            errors.append({\"part\": part, \"key\": key, \"type\": \"no_file\", \"y_true\": yt, \"idx\": idx})"
   ]
  },
  {
   "cell_type": "code",
   "execution_count": 132,
   "metadata": {},
   "outputs": [
    {
     "data": {
      "text/plain": [
       "(0.9645180366646955, 0.9534031413612566)"
      ]
     },
     "execution_count": 132,
     "metadata": {},
     "output_type": "execute_result"
    }
   ],
   "source": [
    "1 - error_generic / total_generic, 1 - error_named / total_named"
   ]
  },
  {
   "cell_type": "code",
   "execution_count": null,
   "metadata": {},
   "outputs": [],
   "source": [
    "files = get_all_files_from_dir(\"baseline/\")\n",
    "baseline = defaultdict(dict)\n",
    "\n",
    "for fn in files:\n",
    "    n_key = os.path.basename(fn)\n",
    "    if \"named\" in fn:\n",
    "        part = \"named\"\n",
    "    else:\n",
    "        part =  \"generic\"\n",
    "    key = n_key[:-5]\n",
    "    baseline[part][key] = []\n",
    "    with open(fn) as file:\n",
    "        gt = regularize(file.read().strip())\n",
    "        if \"named\" in fn:\n",
    "            baseline[part][key] = gt.split(\"\\n\")\n",
    "        else:\n",
    "            gt = re.sub(\" \", \"\", gt)\n",
    "            baseline[part][key] = gt.lower().split(\"\\n\")"
   ]
  },
  {
   "cell_type": "code",
   "execution_count": null,
   "metadata": {},
   "outputs": [],
   "source": [
    "from modules.data.read import DataReader\n",
    "\n",
    "reader = DataReader(\n",
    "    path=\"data/public_test/\",\n",
    "    output_dir=\"data/public_test_v13/\",\n",
    "    tokenizer_name=\"sberbank-ai/rugpt3xl\",\n",
    "    part=\"test\",\n",
    "    local_rank=0,\n",
    "    word_size=1,\n",
    "    window_size=40\n",
    ")"
   ]
  },
  {
   "cell_type": "code",
   "execution_count": null,
   "metadata": {},
   "outputs": [],
   "source": [
    "reader.prc(is_save=False)"
   ]
  },
  {
   "cell_type": "code",
   "execution_count": 63,
   "metadata": {},
   "outputs": [
    {
     "data": {
      "text/plain": [
       "856"
      ]
     },
     "execution_count": 63,
     "metadata": {},
     "output_type": "execute_result"
    }
   ],
   "source": [
    "len(errors)"
   ]
  },
  {
   "cell_type": "code",
   "execution_count": 64,
   "metadata": {},
   "outputs": [],
   "source": [
    "# score(predict_dir=\"test_pred/v14_130k_finetune_fixed\", true_dir=\"reference/\")"
   ]
  },
  {
   "cell_type": "code",
   "execution_count": 177,
   "metadata": {},
   "outputs": [],
   "source": [
    "wc_named = 0\n",
    "wc_generic = 0\n",
    "wc_errors = []\n",
    "not_ws_errors = []\n",
    "for err in errors:\n",
    "    line_ann = reader.anns[err[\"part\"]][err[\"key\"]][err[\"idx\"]].strip().split()\n",
    "    text = reader.texts[err[\"part\"]][err[\"key\"]]\n",
    "    start, stop = list(map(int, line_ann))\n",
    "    norm = regularize(text[start:stop])\n",
    "    if \"named\" != err[\"part\"]:\n",
    "        norm = re.sub(\" \", \"\", norm)\n",
    "    if len(norm.split()) != len(err[\"y_true\"].split()):\n",
    "        err[\"norm\"] = text[start:stop]\n",
    "        wc_errors.append(err)\n",
    "        # print(norm, err[\"y_true\"], err[\"y_pred\"], sep=\" | \")\n",
    "        if \"named\" == err[\"part\"]:\n",
    "            wc_named += 1\n",
    "            if norm == err[\"y_true\"]:\n",
    "                wc_named += 1\n",
    "                \n",
    "        else:\n",
    "            wc_generic += 1\n",
    "            if norm == err[\"y_true\"]:\n",
    "                wc_generic += 1\n",
    "    else:\n",
    "        err[\"norm\"] = text[start:stop]\n",
    "        not_ws_errors.append(err)"
   ]
  },
  {
   "cell_type": "code",
   "execution_count": 178,
   "metadata": {},
   "outputs": [
    {
     "data": {
      "text/plain": [
       "(170, 1)"
      ]
     },
     "execution_count": 178,
     "metadata": {},
     "output_type": "execute_result"
    }
   ],
   "source": [
    "wc_named, wc_generic"
   ]
  },
  {
   "cell_type": "code",
   "execution_count": 180,
   "metadata": {},
   "outputs": [],
   "source": [
    "# wc_errors"
   ]
  },
  {
   "cell_type": "code",
   "execution_count": 136,
   "metadata": {},
   "outputs": [
    {
     "data": {
      "text/plain": [
       "171"
      ]
     },
     "execution_count": 136,
     "metadata": {},
     "output_type": "execute_result"
    }
   ],
   "source": [
    "len(wc_errors)"
   ]
  },
  {
   "cell_type": "code",
   "execution_count": 181,
   "metadata": {},
   "outputs": [],
   "source": [
    "is_titled_errors = []\n",
    "not_is_titled_errors = []\n",
    "for err in not_ws_errors:\n",
    "    ytt = sum([x.istitle() for x in err[\"y_true\"].split()])\n",
    "    ypt = sum([x.istitle() for x in err[\"norm\"].split()])\n",
    "    if ytt != ypt:\n",
    "        is_titled_errors.append(err)\n",
    "        # print(err[\"norm\"], err[\"y_true\"], err[\"y_pred\"], sep=\" | \")\n",
    "    else:\n",
    "        not_is_titled_errors.append(err)"
   ]
  },
  {
   "cell_type": "code",
   "execution_count": 184,
   "metadata": {},
   "outputs": [],
   "source": [
    "# is_titled_errors"
   ]
  },
  {
   "cell_type": "code",
   "execution_count": 182,
   "metadata": {},
   "outputs": [
    {
     "data": {
      "text/plain": [
       "(663, 513)"
      ]
     },
     "execution_count": 182,
     "metadata": {},
     "output_type": "execute_result"
    }
   ],
   "source": [
    "len(not_ws_errors), len(not_is_titled_errors)"
   ]
  },
  {
   "cell_type": "code",
   "execution_count": 139,
   "metadata": {},
   "outputs": [],
   "source": [
    "not_xa_errors = []\n",
    "xa_errors = []\n",
    "for err in not_is_titled_errors:\n",
    "    if \"\\xa0\" in err[\"norm\"] and \"\\xa0\" not in err[\"y_true\"]:\n",
    "        xa_errors.append(err)\n",
    "    else:\n",
    "        not_xa_errors.append(err)"
   ]
  },
  {
   "cell_type": "code",
   "execution_count": 140,
   "metadata": {},
   "outputs": [
    {
     "data": {
      "text/plain": [
       "(513, 488)"
      ]
     },
     "execution_count": 140,
     "metadata": {},
     "output_type": "execute_result"
    }
   ],
   "source": [
    "len(not_is_titled_errors), len(not_xa_errors)"
   ]
  },
  {
   "cell_type": "code",
   "execution_count": 141,
   "metadata": {},
   "outputs": [],
   "source": [
    "from string import punctuation"
   ]
  },
  {
   "cell_type": "code",
   "execution_count": 142,
   "metadata": {},
   "outputs": [],
   "source": [
    "punctuation = set(punctuation + \"«»\")"
   ]
  },
  {
   "cell_type": "code",
   "execution_count": 143,
   "metadata": {},
   "outputs": [],
   "source": [
    "not_punct_err = []\n",
    "punct_err = []\n",
    "for err in not_xa_errors:\n",
    "    is_err = False\n",
    "    for sym in err[\"norm\"]:\n",
    "        if sym in punctuation and sym not in err[\"y_true\"]:\n",
    "            is_err = True\n",
    "            break\n",
    "    for sym in err[\"y_true\"]:\n",
    "        if sym in punctuation and sym not in err[\"norm\"]:\n",
    "            is_err = True\n",
    "            break\n",
    "    \n",
    "    if  err[\"norm\"][-1] in punctuation and err[\"y_true\"][-1] not in punctuation:\n",
    "        punct_err.append(err)\n",
    "    elif err[\"norm\"][0] in punctuation and err[\"y_true\"][0] not in punctuation:\n",
    "        punct_err.append(err)\n",
    "    elif \"–\" in err[\"y_true\"] and \"–\" not in err[\"norm\"]:\n",
    "        punct_err.append(err)\n",
    "    elif \"*\" not in err[\"y_true\"] and \"*\" in err[\"norm\"]:\n",
    "        punct_err.append(err)\n",
    "    elif is_err:\n",
    "        punct_err.append(err)\n",
    "    else:\n",
    "        not_punct_err.append(err)"
   ]
  },
  {
   "cell_type": "code",
   "execution_count": 144,
   "metadata": {},
   "outputs": [
    {
     "data": {
      "text/plain": [
       "(488, 446)"
      ]
     },
     "execution_count": 144,
     "metadata": {},
     "output_type": "execute_result"
    }
   ],
   "source": [
    "len(not_xa_errors), len(not_punct_err)"
   ]
  },
  {
   "cell_type": "code",
   "execution_count": 145,
   "metadata": {},
   "outputs": [],
   "source": [
    "ws_errors = []\n",
    "not_ws_errors = []\n",
    "for err in not_punct_err:\n",
    "    yt = \" \".join(err[\"y_true\"].split())\n",
    "    yp = \" \".join(err[\"y_pred\"].split())\n",
    "    if yt == yp:\n",
    "        ws_errors.append(err)\n",
    "    else:\n",
    "        not_ws_errors.append(err)"
   ]
  },
  {
   "cell_type": "code",
   "execution_count": 146,
   "metadata": {},
   "outputs": [
    {
     "data": {
      "text/plain": [
       "(446, 0)"
      ]
     },
     "execution_count": 146,
     "metadata": {},
     "output_type": "execute_result"
    }
   ],
   "source": [
    "len(not_ws_errors), len(ws_errors)"
   ]
  },
  {
   "cell_type": "code",
   "execution_count": 153,
   "metadata": {},
   "outputs": [],
   "source": [
    "word_start_errors = []\n",
    "not_word_start_errors = []\n",
    "for err in not_ws_errors:\n",
    "    is_err = False\n",
    "    for yt, yp in zip(err[\"y_true\"].split(), err[\"norm\"].split()):\n",
    "        if yt[0] != yp[0]:\n",
    "            is_err = True\n",
    "            break\n",
    "    if is_err:\n",
    "        word_start_errors.append(err)\n",
    "    else:\n",
    "        not_word_start_errors.append(err)"
   ]
  },
  {
   "cell_type": "code",
   "execution_count": 154,
   "metadata": {},
   "outputs": [
    {
     "data": {
      "text/plain": [
       "(446, 415)"
      ]
     },
     "execution_count": 154,
     "metadata": {},
     "output_type": "execute_result"
    }
   ],
   "source": [
    "len(not_ws_errors), len(not_word_start_errors)"
   ]
  },
  {
   "cell_type": "code",
   "execution_count": 162,
   "metadata": {},
   "outputs": [
    {
     "data": {
      "text/plain": [
       "0.9767001774098166"
      ]
     },
     "execution_count": 162,
     "metadata": {},
     "output_type": "execute_result"
    }
   ],
   "source": [
    "1 - len([x for x in not_word_start_errors if x[\"part\"] == \"generic\"]) / total_generic"
   ]
  },
  {
   "cell_type": "code",
   "execution_count": 161,
   "metadata": {},
   "outputs": [
    {
     "data": {
      "text/plain": [
       "0.980977312390925"
      ]
     },
     "execution_count": 161,
     "metadata": {},
     "output_type": "execute_result"
    }
   ],
   "source": [
    "1 - len([x for x in not_word_start_errors if x[\"part\"] == \"named\"]) / total_named"
   ]
  }
 ],
 "metadata": {
  "kernelspec": {
   "display_name": "Python 3",
   "language": "python",
   "name": "python3"
  },
  "language_info": {
   "codemirror_mode": {
    "name": "ipython",
    "version": 3
   },
   "file_extension": ".py",
   "mimetype": "text/x-python",
   "name": "python",
   "nbconvert_exporter": "python",
   "pygments_lexer": "ipython3",
   "version": "3.7.8"
  }
 },
 "nbformat": 4,
 "nbformat_minor": 4
}
